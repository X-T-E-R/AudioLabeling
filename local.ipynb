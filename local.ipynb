{
 "cells": [
  {
   "cell_type": "markdown",
   "metadata": {},
   "source": [
    "项目、环境有关 Env"
   ]
  },
  {
   "cell_type": "code",
   "execution_count": null,
   "metadata": {},
   "outputs": [],
   "source": [
    "# @title 克隆或更新存储库 Clone or Update the repository \n",
    "\n",
    "# Make sure to pull the latest changes from the repository\n",
    "# %cd ./AudioLabeling\n",
    "!git stash\n",
    "!git pull https://github.com/X-T-E-R/AudioLabeling.git "
   ]
  },
  {
   "cell_type": "code",
   "execution_count": null,
   "metadata": {},
   "outputs": [],
   "source": [
    "# @title 安装依赖项 Install dependencies \n",
    "%pip install torch torchvision torchaudio --index-url https://download.pytorch.org/whl/cu118\n",
    "%pip install -r requirements.txt"
   ]
  },
  {
   "cell_type": "markdown",
   "metadata": {},
   "source": [
    "前置处理 PreProcessing"
   ]
  },
  {
   "cell_type": "code",
   "execution_count": null,
   "metadata": {},
   "outputs": [],
   "source": [
    "# @title 下载数据集(音频) Download the dataset (Audio) "
   ]
  },
  {
   "cell_type": "code",
   "execution_count": null,
   "metadata": {},
   "outputs": [],
   "source": [
    "# @title 分离人声 Separate Vocals\n",
    "\n",
    "# 这个部分还没有写好，请使用 uvr 5 或 MVSEP-MDX23 手动分离\n",
    "# This part is not ready yet, please use uvr 5 or MVSEP-MDX23 to separate manually"
   ]
  },
  {
   "cell_type": "markdown",
   "metadata": {},
   "source": [
    "生成字幕、切分音频 SRT and Slice"
   ]
  },
  {
   "cell_type": "code",
   "execution_count": null,
   "metadata": {},
   "outputs": [],
   "source": [
    "# @title 生成srt字幕 Generate srt subtitles\n",
    "import os\n",
    "\n",
    "source_path = \"Input/audios/test/\" # Audio file path, can be a folder or a file 音频文件路径， 可以是文件夹或文件 @param {type:\"string\"}\n",
    "os.makedirs(source_path, exist_ok=True)\n",
    "\n",
    "from tools.my_utils import scan_audios_walk\n",
    "\n",
    "audio_list = []\n",
    "if os.path.isdir(source_path):\n",
    "    audio_list = scan_audios_walk(source_path)\n",
    "    audio_list = [os.path.join(source_path, audio) for audio in audio_list]\n",
    "else:\n",
    "    audio_list.append(source_path)\n",
    "    \n",
    "from src.srt_generator.audio2srt import Audio2Srt\n",
    "\n",
    "models_path = 'models/iic' # 设定模型路径，留空或路径不存在则 modelscope 会自动下载模型 @param {type:\"string\"}\n",
    "\n",
    "\n",
    "with Audio2Srt(models_path=models_path) as a2s:\n",
    "    for audio_path in audio_list:\n",
    "        srt_path = audio_path.rsplit('.', 1)[0] + '.srt'\n",
    "        srt_content = a2s.generate_srt(audio_path)\n",
    "        try:\n",
    "            with open(srt_path, 'w') as f:\n",
    "                f.write(srt_content)\n",
    "            print(f\"生成字幕文件：{srt_path}\")\n",
    "        except:\n",
    "            print(f\"生成字幕文件失败：{srt_path}\")"
   ]
  },
  {
   "cell_type": "code",
   "execution_count": null,
   "metadata": {},
   "outputs": [],
   "source": [
    "# @title 切分音频 Split Audio\n",
    "import os\n",
    "import shutil\n",
    "try:\n",
    "    print(f\"source_path: {source_path}\")\n",
    "except:\n",
    "    source_path = \"Input/audios/test/\" \n",
    "    os.makedirs(source_path, exist_ok=True)\n",
    "\n",
    "charactor = \"test\" # Character name 角色名 (或者说文件夹名) @param {type:\"string\"}\n",
    "output_path = \"Output/sliced_audio/test/\" # @param {type:\"string\"}\n",
    "os.makedirs(output_path, exist_ok=True)\n",
    "\n",
    "print(f\"Remove old files in {output_path}\")\n",
    "shutil.rmtree(output_path, ignore_errors=True)\n",
    "\n",
    "from tools.my_utils import scan_audios_walk, scan_ext_walk\n",
    "\n",
    "# scan srt files and audio files\n",
    "print(f\"scan srt files and audio files in {source_path}\")\n",
    "items = []\n",
    "\n",
    "if os.path.isdir(source_path):\n",
    "    srt_list = scan_ext_walk(source_path, '.srt')\n",
    "    audio_list = scan_audios_walk(source_path)\n",
    "else:   \n",
    "    audio_list = [source_path]\n",
    "    source_path = os.path.dirname(source_path)\n",
    "    srt_list = scan_ext_walk(source_path, '.srt')\n",
    "\n",
    "print(f\"audio_list: {audio_list}\")\n",
    "print(f\"srt_list: {srt_list}\")\n",
    "for audio_file in audio_list:\n",
    "    audio_file_name = os.path.basename(audio_file).rsplit('.', 1)[0]\n",
    "    for srt_file in srt_list:\n",
    "        if audio_file_name in srt_file:\n",
    "            items.append((audio_file, srt_file))\n",
    "            print(f\"找到配对的音频文件：{audio_file} 和字幕文件：{srt_file}\")\n",
    "            break\n",
    "\n",
    "from src.srt_slicer.srt_utils import merge_subtitles_with_lib, slice_audio_with_lib, parse_srt_with_lib, generate_srt_with_lib, filter_subtitles\n",
    "\n",
    "# srt合并设置\n",
    "merge_zero_interval = True # 是否合并相当短的间隔 @param {type:\"boolean\"} \n",
    "short_interval = 0.05 # 短间隔时间 @param {type:\"number\"}\n",
    "max_interval = 0.8 # 最大间隔时间 @param {type:\"number\"}\n",
    "max_text_length = 100 # 最大文本长度 @param {type:\"number\"}\n",
    "add_period = True # 是否添加句号 @param {type:\"boolean\"}\n",
    "\n",
    "min_text_len = 5 # 合并后允许的最小字幕长度 @param {type:\"number\"}\n",
    "language = 'ZH' # 语言 @param {type:\"string\"}\n",
    "\n",
    "merge_folder = True # 是否合并切分好的文件夹和list @param {type:\"boolean\"}\n",
    "\n",
    "save_paths = []\n",
    "for index, item in enumerate(items):\n",
    "    audio_file, srt_file = item\n",
    "    print(f\"开始切分音频文件：{audio_file} 从字幕文件：{srt_file}\")\n",
    "    save_path = os.path.join(output_path, f\"{index}_{os.path.basename(srt_file).rsplit('.', 1)[0]}\")\n",
    "    save_paths.append(save_path)\n",
    "    audio_file_full_path = os.path.join(source_path, audio_file)\n",
    "    srt_file_full_path = os.path.join(source_path, srt_file)\n",
    "    \n",
    "    try:\n",
    "        with open(srt_file_full_path, 'r') as f:\n",
    "            srt_content = f.read()\n",
    "        subtitles = parse_srt_with_lib(srt_content)\n",
    "        merged_subtitles = merge_subtitles_with_lib(subtitles, short_interval, max_interval, max_text_length, add_period, merge_zero_interval)\n",
    "        merged_subtitles = filter_subtitles(merged_subtitles, min_text_len)\n",
    "        # print(generate_srt_with_lib(merged_subtitles))\n",
    "    except Exception as e:\n",
    "        print(f\"打开字幕文件失败：{srt_file_full_path}\")\n",
    "        raise e\n",
    "    print(f\"合并字幕完成，开始切分音频\")\n",
    "    \n",
    "    try:\n",
    "        slice_audio_with_lib(audio_file_full_path, save_folder=save_path, format=\"wav\", subtitles=merged_subtitles, language=language)\n",
    "    except Exception as e:\n",
    "        print(f\"切分音频文件失败：{audio_file_full_path}\")\n",
    "        raise e\n",
    "    \n",
    "\n",
    "\n",
    "if merge_folder and len(save_paths) > 1:\n",
    "    print(f\"开始合并文件夹\")\n",
    "    from src.list_merger.list_utils import merge_list_folders\n",
    "\n",
    "    first_folder = save_paths[0]\n",
    "    first_list_file = os.path.join(first_folder, 'datamapping.list')\n",
    "    for i in range(1, len(save_paths)):\n",
    "        second_folder = save_paths[i]\n",
    "        second_list_file = os.path.join(second_folder, 'datamapping.list')\n",
    "        merge_list_folders(first_list_file, second_list_file, None, first_folder, second_folder)\n",
    "        \n",
    "    print(f\"合并文件夹完成，开始清理\")\n",
    "    output_path = output_path[:-1] if output_path.endswith('/') else output_path\n",
    "    tmp_path = output_path + \"_tmp\"\n",
    "    shutil.rmtree(tmp_path, ignore_errors=True)\n",
    "    shutil.move(first_folder, tmp_path)\n",
    "    shutil.rmtree(output_path, ignore_errors=True)\n",
    "    shutil.move(tmp_path, output_path)"
   ]
  },
  {
   "cell_type": "markdown",
   "metadata": {},
   "source": [
    "后处理 Postprocessing"
   ]
  },
  {
   "cell_type": "code",
   "execution_count": null,
   "metadata": {},
   "outputs": [],
   "source": [
    "# @title 响度标准化 Loudness Normalization\n",
    "%pip install tqdm\n",
    "from tqdm import tqdm\n",
    "\n",
    "try:\n",
    "    print(f\"source_path: {output_path}\")\n",
    "    source_path = output_path\n",
    "except:\n",
    "    source_path = \"Output/sliced_audio/test/\"\n",
    "    \n",
    "target_loudness = -16.0 # 目标响度 @param {type:\"number\"}\n",
    "from src.audio_normalizer.my_utils import normalize_loudness\n",
    "\n",
    "audio_list = scan_audios_walk(source_path)\n",
    "for audio_file in tqdm(audio_list):\n",
    "    audio_file_full_path = os.path.join(source_path, audio_file)\n",
    "    normalize_loudness(audio_file_full_path, target_loudness=target_loudness, target_path=audio_file_full_path)"
   ]
  },
  {
   "cell_type": "code",
   "execution_count": null,
   "metadata": {},
   "outputs": [],
   "source": [
    "# @title (可选) 进行音频中文情绪分类 (Optional) Chinese Emotion Classification in Audio\n",
    "# Warning: 当前版本只支持中文音频，并且不会自动重命名list文件中的音频文件名，谨慎使用\n",
    "# Warning: 基于emotion2vec实现，效果不一定准（对于唱歌素材一定不准）\n",
    "from src.emotion_recognition.audio2emotion import Audio2Emotion\n",
    "\n",
    "try :\n",
    "    print(f\"models_path: {models_path}\")\n",
    "except:\n",
    "    models_path = \"\"\n",
    "    \n",
    "try:\n",
    "    print(f\"source_path: {output_path}\")\n",
    "    source_path = output_path\n",
    "except:\n",
    "    source_path = \"Output/sliced_audio/test/\"\n",
    "\n",
    "audio_list = scan_audios_walk(source_path)\n",
    "with Audio2Emotion(models_path=models_path) as a2e:\n",
    "    for audio_file in audio_list:\n",
    "        audio_file_full_path = os.path.join(source_path, audio_file)\n",
    "        emotion = a2e.get_emotion(audio_file_full_path)\n",
    "        emotion = emotion.split('/')[0]\n",
    "        filename = os.path.basename(audio_file).rsplit('.', 1)[0]\n",
    "        new_filename = f\"{emotion}#{filename}\"\n",
    "        new_file_full_path = os.path.join(os.path.dirname(audio_file_full_path), f\"{new_filename}.{audio_file.rsplit('.', 1)[1]}\")\n",
    "        os.rename(audio_file_full_path, new_file_full_path)"
   ]
  }
 ],
 "metadata": {
  "kernelspec": {
   "display_name": "Python 3",
   "language": "python",
   "name": "python3"
  },
  "language_info": {
   "codemirror_mode": {
    "name": "ipython",
    "version": 3
   },
   "file_extension": ".py",
   "mimetype": "text/x-python",
   "name": "python",
   "nbconvert_exporter": "python",
   "pygments_lexer": "ipython3",
   "version": "3.10.14"
  }
 },
 "nbformat": 4,
 "nbformat_minor": 2
}
